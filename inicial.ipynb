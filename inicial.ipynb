{
 "cells": [
  {
   "cell_type": "markdown",
   "metadata": {},
   "source": [
    "# Python Insights - Analisando Dados com Python\n",
    "\n",
    "### Case - Cancelamento de Clientes\n",
    "\n",
    "Você foi contratado por uma empresa com mais de 800 mil clientes para um projeto de Dados. Recentemente a empresa percebeu que da sua base total de clientes, a maioria são clientes inativos, ou seja, que já cancelaram o serviço.\n",
    "\n",
    "Precisando melhorar seus resultados ela quer conseguir entender os principais motivos desses cancelamentos e quais as ações mais eficientes para reduzir esse número.\n",
    "\n",
    "Base de dados e arquivos: https://drive.google.com/drive/folders/1uDesZePdkhiraJmiyeZ-w5tfc8XsNYFZ?usp=drive_link"
   ]
  },
  {
   "cell_type": "code",
   "execution_count": null,
   "metadata": {},
   "outputs": [],
   "source": [
    "import pandas as pd\n",
    "# %pip install pandas plotly openpyxl numpy nbformat ipykernel"
   ]
  },
  {
   "cell_type": "code",
   "execution_count": null,
   "metadata": {},
   "outputs": [],
   "source": [
    "tabela = pd.read_csv(\"cancelamentos.csv\")"
   ]
  },
  {
   "cell_type": "code",
   "execution_count": null,
   "metadata": {},
   "outputs": [],
   "source": [
    "tabela = tabela.drop(columns=\"CustomerID\")\n",
    "print(tabela)"
   ]
  },
  {
   "cell_type": "code",
   "execution_count": null,
   "metadata": {},
   "outputs": [],
   "source": [
    "display(tabela.info())"
   ]
  },
  {
   "cell_type": "code",
   "execution_count": null,
   "metadata": {},
   "outputs": [],
   "source": [
    "tabela = tabela.dropna()\n",
    "display(tabela.info())"
   ]
  },
  {
   "cell_type": "code",
   "execution_count": null,
   "metadata": {},
   "outputs": [],
   "source": [
    "vc = tabela[\"cancelou\"].value_counts()\n",
    "display(vc)"
   ]
  },
  {
   "cell_type": "code",
   "execution_count": null,
   "metadata": {},
   "outputs": [],
   "source": [
    "vcp = tabela[\"cancelou\"].value_counts(normalize=True)\n",
    "vcp = vcp*100\n",
    "display(vcp)"
   ]
  },
  {
   "cell_type": "code",
   "execution_count": null,
   "metadata": {},
   "outputs": [],
   "source": [
    "#%pip install nbformat\n",
    "import plotly.express as px\n",
    "\n",
    "grafico = px.histogram(tabela, x=\"duracao_contrato\")\n",
    "\n",
    "grafico.show()"
   ]
  },
  {
   "cell_type": "code",
   "execution_count": null,
   "metadata": {},
   "outputs": [],
   "source": [
    "grafico = px.histogram(tabela, x=\"idade\")\n",
    "\n",
    "grafico.show()"
   ]
  },
  {
   "cell_type": "code",
   "execution_count": null,
   "metadata": {},
   "outputs": [],
   "source": [
    "grafico = px.histogram(tabela, x=\"duracao_contrato\", color=\"cancelou\")\n",
    "\n",
    "grafico.show()"
   ]
  },
  {
   "cell_type": "code",
   "execution_count": null,
   "metadata": {},
   "outputs": [],
   "source": [
    "coluna = \"idade\"\n",
    "grafico = px.histogram(tabela, x=coluna, color=\"cancelou\")\n",
    "\n",
    "grafico.show()"
   ]
  },
  {
   "cell_type": "code",
   "execution_count": null,
   "metadata": {},
   "outputs": [],
   "source": [
    "for coluna in tabela.columns:\n",
    "    grafico = px.histogram(tabela, x=coluna, color=\"cancelou\")\n",
    "\n",
    "    grafico.show()"
   ]
  },
  {
   "cell_type": "code",
   "execution_count": null,
   "metadata": {},
   "outputs": [],
   "source": [
    "tbtmp = tabela[tabela[\"duracao_contrato\"]!=\"Monthly\"]\n",
    "vsp = tbtmp[\"cancelou\"].value_counts(normalize=True).map(\"{:1%}\".format)\n",
    "display(vsp)"
   ]
  },
  {
   "cell_type": "code",
   "execution_count": null,
   "metadata": {},
   "outputs": [],
   "source": [
    "vsp = tbtmp[\"cancelou\"].value_counts(normalize=True).map(\"{:.1%}\".format)\n",
    "display(vsp)"
   ]
  },
  {
   "cell_type": "code",
   "execution_count": null,
   "metadata": {},
   "outputs": [],
   "source": [
    "tbtmp = tabela[tabela[\"duracao_contrato\"]!=\"Monthly\"]\n",
    "tbtmp = tbtmp[tbtmp[\"ligacoes_callcenter\"]<=4]\n",
    "vsp = tbtmp[\"cancelou\"].value_counts(normalize=True).map(\"{:.1%}\".format)\n",
    "display(vsp)"
   ]
  },
  {
   "cell_type": "code",
   "execution_count": null,
   "metadata": {},
   "outputs": [],
   "source": [
    "tbtmp = tabela[tabela[\"duracao_contrato\"]!=\"Monthly\"]\n",
    "tbtmp = tbtmp[tbtmp[\"ligacoes_callcenter\"]<=4]\n",
    "tbtmp = tbtmp[tbtmp[\"dias_atraso\"]<=20]\n",
    "\n",
    "vsp = tbtmp[\"cancelou\"].value_counts(normalize=True).map(\"{:.1%}\".format)\n",
    "display(vsp)"
   ]
  }
 ],
 "metadata": {
  "kernelspec": {
   "display_name": "base",
   "language": "python",
   "name": "python3"
  },
  "language_info": {
   "codemirror_mode": {
    "name": "ipython",
    "version": 3
   },
   "file_extension": ".py",
   "mimetype": "text/x-python",
   "name": "python",
   "nbconvert_exporter": "python",
   "pygments_lexer": "ipython3",
   "version": "3.11.4"
  },
  "orig_nbformat": 4
 },
 "nbformat": 4,
 "nbformat_minor": 2
}
